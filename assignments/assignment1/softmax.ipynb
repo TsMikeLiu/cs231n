{
 "cells": [
  {
   "cell_type": "code",
   "execution_count": null,
   "id": "161a3aa0",
   "metadata": {},
   "outputs": [],
   "source": [
    "# This mounts your Google Drive to the Colab VM.\n",
    "from google.colab import drive\n",
    "drive.mount('/content/drive')\n",
    "\n",
    "# TODO: Enter the foldername in your Drive where you have saved the unzipped\n",
    "# assignment folder, e.g. 'cs231n/assignments/assignment1/'\n",
    "FOLDERNAME = None\n",
    "assert FOLDERNAME is not None, \"[!] Enter the foldername.\"\n",
    "\n",
    "# Now that we've mounted your Drive, this ensures that\n",
    "# the Python interpreter of the Colab VM can load\n",
    "# python files from within it.\n",
    "import sys\n",
    "sys.path.append('/content/drive/My Drive/{}'.format(FOLDERNAME))\n",
    "\n",
    "# This downloads the CIFAR-10 dataset to your Drive\n",
    "# if it doesn't already exist.\n",
    "%cd /content/drive/My\\ Drive/$FOLDERNAME/cs231n/datasets/\n",
    "!bash get_datasets.sh\n",
    "%cd /content/drive/My\\ Drive/$FOLDERNAME"
   ]
  },
  {
   "cell_type": "markdown",
   "id": "26fdca1c",
   "metadata": {
    "tags": [
     "pdf-title"
    ]
   },
   "source": [
    "# Softmax exercise\n",
    "\n",
    "*Complete and hand in this completed worksheet (including its outputs and any supporting code outside of the worksheet) with your assignment submission. For more details see the [assignments page](http://vision.stanford.edu/teaching/cs231n/assignments.html) on the course website.*\n",
    "\n",
    "This exercise is analogous to the SVM exercise. You will:\n",
    "\n",
    "- implement a fully-vectorized **loss function** for the Softmax classifier\n",
    "- implement the fully-vectorized expression for its **analytic gradient**\n",
    "- **check your implementation** with numerical gradient\n",
    "- use a validation set to **tune the learning rate and regularization** strength\n",
    "- **optimize** the loss function with **SGD**\n",
    "- **visualize** the final learned weights\n"
   ]
  },
  {
   "cell_type": "code",
   "execution_count": 1,
   "id": "1f12280f",
   "metadata": {
    "tags": [
     "pdf-ignore"
    ]
   },
   "outputs": [],
   "source": [
    "import random\n",
    "import numpy as np\n",
    "from cs231n.data_utils import load_CIFAR10\n",
    "import matplotlib.pyplot as plt\n",
    "\n",
    "%matplotlib inline\n",
    "plt.rcParams['figure.figsize'] = (10.0, 8.0) # set default size of plots\n",
    "plt.rcParams['image.interpolation'] = 'nearest'\n",
    "plt.rcParams['image.cmap'] = 'gray'\n",
    "\n",
    "# for auto-reloading extenrnal modules\n",
    "# see http://stackoverflow.com/questions/1907993/autoreload-of-modules-in-ipython\n",
    "%load_ext autoreload\n",
    "%autoreload 2"
   ]
  },
  {
   "cell_type": "code",
   "execution_count": 2,
   "id": "ab106c82",
   "metadata": {
    "tags": [
     "pdf-ignore"
    ]
   },
   "outputs": [
    {
     "name": "stdout",
     "output_type": "stream",
     "text": [
      "Train data shape:  (49000, 3073)\n",
      "Train labels shape:  (49000,)\n",
      "Validation data shape:  (1000, 3073)\n",
      "Validation labels shape:  (1000,)\n",
      "Test data shape:  (1000, 3073)\n",
      "Test labels shape:  (1000,)\n",
      "dev data shape:  (500, 3073)\n",
      "dev labels shape:  (500,)\n"
     ]
    }
   ],
   "source": [
    "def get_CIFAR10_data(num_training=49000, num_validation=1000, num_test=1000, num_dev=500):\n",
    "    \"\"\"\n",
    "    Load the CIFAR-10 dataset from disk and perform preprocessing to prepare\n",
    "    it for the linear classifier. These are the same steps as we used for the\n",
    "    SVM, but condensed to a single function.  \n",
    "    \"\"\"\n",
    "    # Load the raw CIFAR-10 data\n",
    "    cifar10_dir = 'cs231n/datasets/cifar-10-batches-py'\n",
    "    \n",
    "    # Cleaning up variables to prevent loading data multiple times (which may cause memory issue)\n",
    "    try:\n",
    "       del X_train, y_train\n",
    "       del X_test, y_test\n",
    "       print('Clear previously loaded data.')\n",
    "    except:\n",
    "       pass\n",
    "\n",
    "    X_train, y_train, X_test, y_test = load_CIFAR10(cifar10_dir)\n",
    "    \n",
    "    # subsample the data\n",
    "    mask = list(range(num_training, num_training + num_validation))\n",
    "    X_val = X_train[mask]\n",
    "    y_val = y_train[mask]\n",
    "    mask = list(range(num_training))\n",
    "    X_train = X_train[mask]\n",
    "    y_train = y_train[mask]\n",
    "    mask = list(range(num_test))\n",
    "    X_test = X_test[mask]\n",
    "    y_test = y_test[mask]\n",
    "    mask = np.random.choice(num_training, num_dev, replace=False)\n",
    "    X_dev = X_train[mask]\n",
    "    y_dev = y_train[mask]\n",
    "    \n",
    "    # Preprocessing: reshape the image data into rows\n",
    "    X_train = np.reshape(X_train, (X_train.shape[0], -1))\n",
    "    X_val = np.reshape(X_val, (X_val.shape[0], -1))\n",
    "    X_test = np.reshape(X_test, (X_test.shape[0], -1))\n",
    "    X_dev = np.reshape(X_dev, (X_dev.shape[0], -1))\n",
    "    \n",
    "    # Normalize the data: subtract the mean image\n",
    "    mean_image = np.mean(X_train, axis = 0)\n",
    "    X_train -= mean_image\n",
    "    X_val -= mean_image\n",
    "    X_test -= mean_image\n",
    "    X_dev -= mean_image\n",
    "    \n",
    "    # add bias dimension and transform into columns\n",
    "    X_train = np.hstack([X_train, np.ones((X_train.shape[0], 1))])\n",
    "    X_val = np.hstack([X_val, np.ones((X_val.shape[0], 1))])\n",
    "    X_test = np.hstack([X_test, np.ones((X_test.shape[0], 1))])\n",
    "    X_dev = np.hstack([X_dev, np.ones((X_dev.shape[0], 1))])\n",
    "    \n",
    "    return X_train, y_train, X_val, y_val, X_test, y_test, X_dev, y_dev\n",
    "\n",
    "\n",
    "# Invoke the above function to get our data.\n",
    "X_train, y_train, X_val, y_val, X_test, y_test, X_dev, y_dev = get_CIFAR10_data()\n",
    "print('Train data shape: ', X_train.shape)\n",
    "print('Train labels shape: ', y_train.shape)\n",
    "print('Validation data shape: ', X_val.shape)\n",
    "print('Validation labels shape: ', y_val.shape)\n",
    "print('Test data shape: ', X_test.shape)\n",
    "print('Test labels shape: ', y_test.shape)\n",
    "print('dev data shape: ', X_dev.shape)\n",
    "print('dev labels shape: ', y_dev.shape)"
   ]
  },
  {
   "cell_type": "markdown",
   "id": "4721c3cb",
   "metadata": {},
   "source": [
    "## Softmax Classifier\n",
    "\n",
    "Your code for this section will all be written inside `cs231n/classifiers/softmax.py`.\n"
   ]
  },
  {
   "cell_type": "code",
   "execution_count": 5,
   "id": "d42765cd",
   "metadata": {},
   "outputs": [
    {
     "name": "stdout",
     "output_type": "stream",
     "text": [
      "loss: 2.355558\n",
      "sanity check: 2.302585\n"
     ]
    }
   ],
   "source": [
    "# First implement the naive softmax loss function with nested loops.\n",
    "# Open the file cs231n/classifiers/softmax.py and implement the\n",
    "# softmax_loss_naive function.\n",
    "\n",
    "from cs231n.classifiers.softmax import softmax_loss_naive\n",
    "import time\n",
    "\n",
    "# Generate a random softmax weight matrix and use it to compute the loss.\n",
    "W = np.random.randn(3073, 10) * 0.0001\n",
    "loss, grad = softmax_loss_naive(W, X_dev, y_dev, 0.0)\n",
    "\n",
    "# As a rough sanity check, our loss should be something close to -log(0.1).\n",
    "print('loss: %f' % loss)\n",
    "print('sanity check: %f' % (-np.log(0.1)))"
   ]
  },
  {
   "cell_type": "code",
   "execution_count": 12,
   "id": "3be4a617",
   "metadata": {},
   "outputs": [
    {
     "data": {
      "text/plain": [
       "array([[ 6],\n",
       "       [15]])"
      ]
     },
     "execution_count": 12,
     "metadata": {},
     "output_type": "execute_result"
    }
   ],
   "source": [
    "a = np.array([[1,2,3],[4,5,6]])\n",
    "b = np.array([1,2,3])\n",
    "np.sum(a,axis=1,keepdims=True)\n",
    "\n"
   ]
  },
  {
   "cell_type": "markdown",
   "id": "6f88764e",
   "metadata": {
    "tags": [
     "pdf-inline"
    ]
   },
   "source": [
    "**Inline Question 1**\n",
    "\n",
    "Why do we expect our loss to be close to -log(0.1)? Explain briefly.**\n",
    "\n",
    "$\\color{blue}{\\textit Your Answer:}$ *Fill this in* \n",
    "\n",
    "$L_i = -log{\\frac{1}{10\\times 1}} = -log{0.1}$\n",
    "\n"
   ]
  },
  {
   "cell_type": "code",
   "execution_count": 6,
   "id": "4c2626ef",
   "metadata": {},
   "outputs": [
    {
     "name": "stdout",
     "output_type": "stream",
     "text": [
      "numerical: 3.341708 analytic: 3.341708, relative error: 1.455548e-08\n",
      "numerical: -1.496957 analytic: -1.496957, relative error: 9.514328e-09\n",
      "numerical: -1.719008 analytic: -1.719009, relative error: 2.429230e-08\n",
      "numerical: -1.090186 analytic: -1.090186, relative error: 2.135880e-08\n",
      "numerical: -3.868364 analytic: -3.868364, relative error: 6.001032e-09\n",
      "numerical: -3.155731 analytic: -3.155731, relative error: 3.953051e-09\n",
      "numerical: -1.271472 analytic: -1.271472, relative error: 9.146279e-09\n",
      "numerical: 0.183764 analytic: 0.183764, relative error: 1.659072e-07\n",
      "numerical: -0.577841 analytic: -0.577841, relative error: 4.038646e-08\n",
      "numerical: -0.334085 analytic: -0.334085, relative error: 5.192895e-08\n",
      "numerical: -0.713875 analytic: -0.713875, relative error: 1.038484e-07\n",
      "numerical: -2.649611 analytic: -2.649611, relative error: 7.362356e-09\n",
      "numerical: 0.617084 analytic: 0.617084, relative error: 2.886361e-08\n",
      "numerical: -1.449352 analytic: -1.449352, relative error: 1.691511e-08\n",
      "numerical: 0.104533 analytic: 0.104533, relative error: 4.781154e-07\n",
      "numerical: 1.169763 analytic: 1.169763, relative error: 2.676600e-08\n",
      "numerical: -2.487629 analytic: -2.487629, relative error: 1.181251e-08\n",
      "numerical: 0.872869 analytic: 0.872869, relative error: 4.229186e-08\n",
      "numerical: -2.642922 analytic: -2.642922, relative error: 2.394416e-08\n",
      "numerical: 2.767020 analytic: 2.767020, relative error: 2.984226e-08\n"
     ]
    }
   ],
   "source": [
    "# Complete the implementation of softmax_loss_naive and implement a (naive)\n",
    "# version of the gradient that uses nested loops.\n",
    "loss, grad = softmax_loss_naive(W, X_dev, y_dev, 0.0)\n",
    "\n",
    "# As we did for the SVM, use numeric gradient checking as a debugging tool.\n",
    "# The numeric gradient should be close to the analytic gradient.\n",
    "from cs231n.gradient_check import grad_check_sparse\n",
    "f = lambda w: softmax_loss_naive(w, X_dev, y_dev, 0.0)[0]\n",
    "grad_numerical = grad_check_sparse(f, W, grad, 10)\n",
    "\n",
    "# similar to SVM case, do another gradient check with regularization\n",
    "loss, grad = softmax_loss_naive(W, X_dev, y_dev, 5e1)\n",
    "f = lambda w: softmax_loss_naive(w, X_dev, y_dev, 5e1)[0]\n",
    "grad_numerical = grad_check_sparse(f, W, grad, 10)"
   ]
  },
  {
   "cell_type": "code",
   "execution_count": 19,
   "id": "434e757f",
   "metadata": {},
   "outputs": [
    {
     "name": "stdout",
     "output_type": "stream",
     "text": [
      "naive loss: 2.355558e+00 computed in 0.097750s\n",
      "vectorized loss: 2.355558e+00 computed in 0.002999s\n",
      "Loss difference: 0.000000\n",
      "Gradient difference: 128.493469\n"
     ]
    }
   ],
   "source": [
    "# Now that we have a naive implementation of the softmax loss function and its gradient,\n",
    "# implement a vectorized version in softmax_loss_vectorized.\n",
    "# The two versions should compute the same results, but the vectorized version should be\n",
    "# much faster.\n",
    "tic = time.time()\n",
    "loss_naive, grad_naive = softmax_loss_naive(W, X_dev, y_dev, 0.000005)\n",
    "toc = time.time()\n",
    "print('naive loss: %e computed in %fs' % (loss_naive, toc - tic))\n",
    "\n",
    "from cs231n.classifiers.softmax import softmax_loss_vectorized\n",
    "tic = time.time()\n",
    "loss_vectorized, grad_vectorized = softmax_loss_vectorized(W, X_dev, y_dev, 0.000005)\n",
    "toc = time.time()\n",
    "print('vectorized loss: %e computed in %fs' % (loss_vectorized, toc - tic))\n",
    "\n",
    "# As we did for the SVM, we use the Frobenius norm to compare the two versions\n",
    "# of the gradient.\n",
    "grad_difference = np.linalg.norm(grad_naive - grad_vectorized, ord='fro')\n",
    "print('Loss difference: %f' % np.abs(loss_naive - loss_vectorized))\n",
    "print('Gradient difference: %f' % grad_difference)"
   ]
  },
  {
   "cell_type": "code",
   "execution_count": 24,
   "id": "2e5e374d",
   "metadata": {
    "tags": [
     "code"
    ],
    "test": "tuning"
   },
   "outputs": [
    {
     "name": "stderr",
     "output_type": "stream",
     "text": [
      "d:\\Tsinghua\\研究生\\cs231n\\cs231n\\assignments\\assignment1\\cs231n\\classifiers\\softmax.py:87: RuntimeWarning: overflow encountered in double_scalars\n",
      "c:\\Users\\liuzi\\AppData\\Local\\Programs\\Python\\Python37\\lib\\site-packages\\numpy\\core\\fromnumeric.py:86: RuntimeWarning: overflow encountered in reduce\n",
      "  return ufunc.reduce(obj, axis, dtype, out, **passkwargs)\n",
      "d:\\Tsinghua\\研究生\\cs231n\\cs231n\\assignments\\assignment1\\cs231n\\classifiers\\softmax.py:87: RuntimeWarning: overflow encountered in square\n",
      "d:\\Tsinghua\\研究生\\cs231n\\cs231n\\assignments\\assignment1\\cs231n\\classifiers\\softmax.py:96: RuntimeWarning: overflow encountered in multiply\n",
      "d:\\Tsinghua\\研究生\\cs231n\\cs231n\\assignments\\assignment1\\cs231n\\classifiers\\softmax.py:85: RuntimeWarning: invalid value encountered in subtract\n",
      "  \n"
     ]
    },
    {
     "name": "stdout",
     "output_type": "stream",
     "text": [
      "lr 1.000000e-08 reg 5.000000e+03 train accuracy: 0.155837 val accuracy: 0.158000\n",
      "lr 1.000000e-08 reg 7.500000e+03 train accuracy: 0.149224 val accuracy: 0.146000\n",
      "lr 1.000000e-08 reg 1.000000e+04 train accuracy: 0.137898 val accuracy: 0.157000\n",
      "lr 1.000000e-08 reg 2.500000e+04 train accuracy: 0.192449 val accuracy: 0.187000\n",
      "lr 1.000000e-08 reg 5.000000e+04 train accuracy: 0.186796 val accuracy: 0.199000\n",
      "lr 1.000000e-08 reg 7.500000e+04 train accuracy: 0.166612 val accuracy: 0.174000\n",
      "lr 1.000000e-08 reg 1.000000e+05 train accuracy: 0.186224 val accuracy: 0.188000\n",
      "lr 1.000000e-08 reg 2.500000e+05 train accuracy: 0.244714 val accuracy: 0.259000\n",
      "lr 1.000000e-08 reg 5.000000e+05 train accuracy: 0.245245 val accuracy: 0.260000\n",
      "lr 5.000000e-08 reg 5.000000e+03 train accuracy: 0.239286 val accuracy: 0.259000\n",
      "lr 5.000000e-08 reg 7.500000e+03 train accuracy: 0.229265 val accuracy: 0.235000\n",
      "lr 5.000000e-08 reg 1.000000e+04 train accuracy: 0.237327 val accuracy: 0.244000\n",
      "lr 5.000000e-08 reg 2.500000e+04 train accuracy: 0.246122 val accuracy: 0.252000\n",
      "lr 5.000000e-08 reg 5.000000e+04 train accuracy: 0.245939 val accuracy: 0.255000\n",
      "lr 5.000000e-08 reg 7.500000e+04 train accuracy: 0.243163 val accuracy: 0.260000\n",
      "lr 5.000000e-08 reg 1.000000e+05 train accuracy: 0.245306 val accuracy: 0.262000\n",
      "lr 5.000000e-08 reg 2.500000e+05 train accuracy: 0.238061 val accuracy: 0.253000\n",
      "lr 5.000000e-08 reg 5.000000e+05 train accuracy: 0.234408 val accuracy: 0.248000\n",
      "lr 1.000000e-07 reg 5.000000e+03 train accuracy: 0.245061 val accuracy: 0.252000\n",
      "lr 1.000000e-07 reg 7.500000e+03 train accuracy: 0.238776 val accuracy: 0.253000\n",
      "lr 1.000000e-07 reg 1.000000e+04 train accuracy: 0.247388 val accuracy: 0.254000\n",
      "lr 1.000000e-07 reg 2.500000e+04 train accuracy: 0.241388 val accuracy: 0.258000\n",
      "lr 1.000000e-07 reg 5.000000e+04 train accuracy: 0.245000 val accuracy: 0.258000\n",
      "lr 1.000000e-07 reg 7.500000e+04 train accuracy: 0.239265 val accuracy: 0.253000\n",
      "lr 1.000000e-07 reg 1.000000e+05 train accuracy: 0.248837 val accuracy: 0.258000\n",
      "lr 1.000000e-07 reg 2.500000e+05 train accuracy: 0.238571 val accuracy: 0.257000\n",
      "lr 1.000000e-07 reg 5.000000e+05 train accuracy: 0.248122 val accuracy: 0.260000\n",
      "lr 5.000000e-07 reg 5.000000e+03 train accuracy: 0.246796 val accuracy: 0.258000\n",
      "lr 5.000000e-07 reg 7.500000e+03 train accuracy: 0.242510 val accuracy: 0.259000\n",
      "lr 5.000000e-07 reg 1.000000e+04 train accuracy: 0.249327 val accuracy: 0.265000\n",
      "lr 5.000000e-07 reg 2.500000e+04 train accuracy: 0.244653 val accuracy: 0.255000\n",
      "lr 5.000000e-07 reg 5.000000e+04 train accuracy: 0.247388 val accuracy: 0.255000\n",
      "lr 5.000000e-07 reg 7.500000e+04 train accuracy: 0.252571 val accuracy: 0.272000\n",
      "lr 5.000000e-07 reg 1.000000e+05 train accuracy: 0.236469 val accuracy: 0.253000\n",
      "lr 5.000000e-07 reg 2.500000e+05 train accuracy: 0.252184 val accuracy: 0.263000\n",
      "lr 5.000000e-07 reg 5.000000e+05 train accuracy: 0.247367 val accuracy: 0.261000\n",
      "lr 1.000000e-06 reg 5.000000e+03 train accuracy: 0.248265 val accuracy: 0.259000\n",
      "lr 1.000000e-06 reg 7.500000e+03 train accuracy: 0.249796 val accuracy: 0.257000\n",
      "lr 1.000000e-06 reg 1.000000e+04 train accuracy: 0.253122 val accuracy: 0.268000\n",
      "lr 1.000000e-06 reg 2.500000e+04 train accuracy: 0.240694 val accuracy: 0.253000\n",
      "lr 1.000000e-06 reg 5.000000e+04 train accuracy: 0.239184 val accuracy: 0.254000\n",
      "lr 1.000000e-06 reg 7.500000e+04 train accuracy: 0.242816 val accuracy: 0.258000\n",
      "lr 1.000000e-06 reg 1.000000e+05 train accuracy: 0.246857 val accuracy: 0.253000\n",
      "lr 1.000000e-06 reg 2.500000e+05 train accuracy: 0.226980 val accuracy: 0.238000\n",
      "lr 1.000000e-06 reg 5.000000e+05 train accuracy: 0.205163 val accuracy: 0.207000\n",
      "lr 5.000000e-06 reg 5.000000e+03 train accuracy: 0.251653 val accuracy: 0.265000\n",
      "lr 5.000000e-06 reg 7.500000e+03 train accuracy: 0.247898 val accuracy: 0.264000\n",
      "lr 5.000000e-06 reg 1.000000e+04 train accuracy: 0.247735 val accuracy: 0.268000\n",
      "lr 5.000000e-06 reg 2.500000e+04 train accuracy: 0.237510 val accuracy: 0.255000\n",
      "lr 5.000000e-06 reg 5.000000e+04 train accuracy: 0.215265 val accuracy: 0.218000\n",
      "lr 5.000000e-06 reg 7.500000e+04 train accuracy: 0.231939 val accuracy: 0.233000\n",
      "lr 5.000000e-06 reg 1.000000e+05 train accuracy: 0.213082 val accuracy: 0.214000\n",
      "lr 5.000000e-06 reg 2.500000e+05 train accuracy: 0.081633 val accuracy: 0.096000\n",
      "lr 5.000000e-06 reg 5.000000e+05 train accuracy: 0.100265 val accuracy: 0.087000\n",
      "best validation accuracy achieved during cross-validation: 0.272000\n"
     ]
    }
   ],
   "source": [
    "# Use the validation set to tune hyperparameters (regularization strength and\n",
    "# learning rate). You should experiment with different ranges for the learning\n",
    "# rates and regularization strengths; if you are careful you should be able to\n",
    "# get a classification accuracy of over 0.35 on the validation set.\n",
    "\n",
    "from cs231n.classifiers import Softmax\n",
    "results = {}\n",
    "best_val = -1\n",
    "best_paras = [0,0]\n",
    "best_softmax = None\n",
    "\n",
    "################################################################################\n",
    "# TODO:                                                                        #\n",
    "# Use the validation set to set the learning rate and regularization strength. #\n",
    "# This should be identical to the validation that you did for the SVM; save    #\n",
    "# the best trained softmax classifer in best_softmax.                          #\n",
    "################################################################################\n",
    "\n",
    "# Provided as a reference. You may or may not want to change these hyperparameters\n",
    "learning_rates = [1e-8, 5e-8, 1e-7, 5e-7, 1e-6, 5e-6]\n",
    "regularization_strengths = [5e3, 7.5e3, 1e4, 2.5e4, 5e4, 7.5e4, 1e5, 2.5e5, 5e5]\n",
    "\n",
    "# *****START OF YOUR CODE (DO NOT DELETE/MODIFY THIS LINE)*****\n",
    "\n",
    "W = 0\n",
    "for lr in learning_rates:\n",
    "    for rs in regularization_strengths:\n",
    "        cur_softmax = Softmax()\n",
    "        loss_history = cur_softmax.train(X_train, y_train,learning_rate=lr, reg=rs, num_iters = 1000)\n",
    "        train_pred = cur_softmax.predict(X_train)\n",
    "        val_pred = cur_softmax.predict(X_val)\n",
    "        train_accuracy = np.sum(train_pred == y_train)/len(train_pred)\n",
    "        val_accuracy = np.sum(val_pred == y_val)/len(val_pred)\n",
    "\n",
    "        results[(lr, rs)] = (train_accuracy, val_accuracy)\n",
    "        if val_accuracy > best_val:\n",
    "            best_val = val_accuracy\n",
    "            best_softmax = cur_softmax\n",
    "            best_paras = [lr,rs]\n",
    "\n",
    "\n",
    "# *****END OF YOUR CODE (DO NOT DELETE/MODIFY THIS LINE)*****\n",
    "    \n",
    "# Print out results.\n",
    "for lr, reg in sorted(results):\n",
    "    train_accuracy, val_accuracy = results[(lr, reg)]\n",
    "    print('lr %e reg %e train accuracy: %f val accuracy: %f' % (\n",
    "                lr, reg, train_accuracy, val_accuracy))\n",
    "    \n",
    "print('best validation accuracy achieved during cross-validation: %f' % best_val)\n",
    "print(best_paras)"
   ]
  },
  {
   "cell_type": "code",
   "execution_count": 25,
   "id": "deb37cc6",
   "metadata": {
    "test": "test"
   },
   "outputs": [
    {
     "name": "stdout",
     "output_type": "stream",
     "text": [
      "softmax on raw pixels final test set accuracy: 0.279000\n"
     ]
    }
   ],
   "source": [
    "# evaluate on test set\n",
    "# Evaluate the best softmax on test set\n",
    "y_test_pred = best_softmax.predict(X_test)\n",
    "test_accuracy = np.mean(y_test == y_test_pred)\n",
    "print('softmax on raw pixels final test set accuracy: %f' % (test_accuracy, ))"
   ]
  },
  {
   "cell_type": "markdown",
   "id": "df501314",
   "metadata": {
    "tags": [
     "pdf-inline"
    ]
   },
   "source": [
    "**Inline Question 2** - *True or False*\n",
    "\n",
    "Suppose the overall training loss is defined as the sum of the per-datapoint loss over all training examples. It is possible to add a new datapoint to a training set that would leave the SVM loss unchanged, but this is not the case with the Softmax classifier loss.\n",
    "\n",
    "$\\color{blue}{\\textit Your Answer:}$\n",
    "\n",
    "\n",
    "$\\color{blue}{\\textit Your Explanation:}$\n",
    "\n"
   ]
  },
  {
   "cell_type": "code",
   "execution_count": 26,
   "id": "ade33adc",
   "metadata": {},
   "outputs": [
    {
     "data": {
      "image/png": "[encoded data removed]",
      "text/plain": [
       "<Figure size 720x576 with 10 Axes>"
      ]
     },
     "metadata": {
      "needs_background": "light"
     },
     "output_type": "display_data"
    }
   ],
   "source": [
    "# Visualize the learned weights for each class\n",
    "w = best_softmax.W[:-1,:] # strip out the bias\n",
    "w = w.reshape(32, 32, 3, 10)\n",
    "\n",
    "w_min, w_max = np.min(w), np.max(w)\n",
    "\n",
    "classes = ['plane', 'car', 'bird', 'cat', 'deer', 'dog', 'frog', 'horse', 'ship', 'truck']\n",
    "for i in range(10):\n",
    "    plt.subplot(2, 5, i + 1)\n",
    "    \n",
    "    # Rescale the weights to be between 0 and 255\n",
    "    wimg = 255.0 * (w[:, :, :, i].squeeze() - w_min) / (w_max - w_min)\n",
    "    plt.imshow(wimg.astype('uint8'))\n",
    "    plt.axis('off')\n",
    "    plt.title(classes[i])"
   ]
  },
  {
   "cell_type": "code",
   "execution_count": null,
   "id": "4d5d17f8",
   "metadata": {},
   "outputs": [],
   "source": []
  }
 ],
 "metadata": {
  "kernelspec": {
   "display_name": "Python 3.7.0 64-bit",
   "language": "python",
   "name": "python3"
  },
  "language_info": {
   "codemirror_mode": {
    "name": "ipython",
    "version": 3
   },
   "file_extension": ".py",
   "mimetype": "text/x-python",
   "name": "python",
   "nbconvert_exporter": "python",
   "pygments_lexer": "ipython3",
   "version": "3.7.0"
  },
  "vscode": {
   "interpreter": {
    "hash": "ee2b468fc3b9eb59b36bd11d8da7b468bf7f77180de37aeab2d75dd18fa108fe"
   }
  }
 },
 "nbformat": 4,
 "nbformat_minor": 5
}
